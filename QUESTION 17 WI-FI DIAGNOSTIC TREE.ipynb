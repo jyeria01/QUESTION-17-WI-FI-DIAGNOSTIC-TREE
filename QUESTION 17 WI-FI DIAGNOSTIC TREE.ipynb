{
 "cells": [
  {
   "cell_type": "markdown",
   "id": "a57398b8",
   "metadata": {},
   "source": [
    "## TROUBLESHOOTING A BAD WIFI CONNECTION\n",
    "## USE THE FLOWCHART (FIGURE 3-19) TO CREATE A PROGRAM THAT LEADS A\n",
    "## PERSON THROUGH THE SETPS OF FIXING\n",
    "## A BAD WI-FI CONNECTION"
   ]
  },
  {
   "cell_type": "markdown",
   "id": "016071a5",
   "metadata": {},
   "source": [
    "##### REBOOT THE COMPUTER AND TRY TO CONNECT\n",
    "##### REBOOT THE ROUTER AND TRY TO CONNECT\n",
    "###### MAKE SURE THE CABLES BETWEEN THE ROUTER AND MODEM ARE PLUGGED IN FIRMLY\n",
    "###### MOVE THE ROUTER TO A NEW LOCATION AND TRY TO CONNECT\n",
    "###### GET A NEW ROUTER\n",
    "##### OUR CUSTOMER IS HOPING ONE OF THESE STEPS WILL WORK TO FIX THE WI-FI CONNECTION"
   ]
  },
  {
   "cell_type": "code",
   "execution_count": 1,
   "id": "a6d27938",
   "metadata": {},
   "outputs": [
    {
     "name": "stdout",
     "output_type": "stream",
     "text": [
      "Reboot the computer and try to connect\n",
      "Did that fix the problem? yes\n"
     ]
    }
   ],
   "source": [
    "# Wifi diagnostic step 1\n",
    "print('Reboot the computer and try to connect')\n",
    "\n",
    "step_1 = input('Did that fix the problem? ') # asking if step 1 fixed the problem if not move to the next step\n",
    "if step_1 =='No' or step_1 =='no' or step_1 == 'NO':\n",
    "    print('Reboot the router and try to connect.')\n",
    "\n",
    "    \n",
    "    step_2 = input('Did that fix the problem? ')\n",
    "    if step_2 == 'No' or step_2 == 'no' or step_2 == 'NO' :\n",
    "        print('Please make sure the cables between the router and modem are plugged in firmly.')\n",
    "\n",
    "        \n",
    "        step_3 = input('Did that fix the problem? ')\n",
    "        if step_3 == 'No' or step_3 == 'no' or step_3 == 'NO':\n",
    "            print('Move the router to a new location.')\n",
    "      \n",
    "            \n",
    "        step_4 = input('Did that fix the problem? ')\n",
    "    if step_4 == 'No' or step_4 == 'no' or step_4 == 'NO':\n",
    "            print('Get a new router')"
   ]
  },
  {
   "cell_type": "code",
   "execution_count": 2,
   "id": "2f96d977",
   "metadata": {},
   "outputs": [
    {
     "name": "stdout",
     "output_type": "stream",
     "text": [
      "Reboot the computer and try to connect\n",
      "Did that fix the problem? no\n",
      "Reboot the router and try to connect.\n",
      "Did that fix the problem? yes\n"
     ]
    }
   ],
   "source": [
    "# Wifi diagnostic step 1\n",
    "print('Reboot the computer and try to connect')\n",
    "\n",
    "step_1 = input('Did that fix the problem? ') # asking if step 1 fixed the problem if not move to the next step\n",
    "if step_1 =='No' or step_1 =='no' or step_1 == 'NO':\n",
    "    print('Reboot the router and try to connect.')\n",
    "\n",
    "    \n",
    "    step_2 = input('Did that fix the problem? ')\n",
    "    if step_2 == 'No' or step_2 == 'no' or step_2 == 'NO' :\n",
    "        print('Please make sure the cables between the router and modem are plugged in firmly.')\n",
    "\n",
    "        \n",
    "        step_3 = input('Did that fix the problem? ')\n",
    "        if step_3 == 'No' or step_3 == 'no' or step_3 == 'NO':\n",
    "            print('Move the router to a new location.')\n",
    "      \n",
    "            \n",
    "        step_4 = input('Did that fix the problem? ')\n",
    "        if step_4 == 'No' or step_4 == 'no' or step_4 == 'NO':\n",
    "            print('Get a new router')"
   ]
  },
  {
   "cell_type": "code",
   "execution_count": 3,
   "id": "67bd3091",
   "metadata": {},
   "outputs": [
    {
     "name": "stdout",
     "output_type": "stream",
     "text": [
      "Reboot the computer and try to connect\n",
      "Did that fix the problem? NO\n",
      "Reboot the router and try to connect.\n",
      "Did that fix the problem? NO\n",
      "Please make sure the cables between the router and modem are plugged in firmly.\n",
      "Did that fix the problem? NO\n",
      "Move the router to a new location.\n",
      "Did that fix the problem? NO\n",
      "Get a new router\n"
     ]
    }
   ],
   "source": [
    "# Wifi diagnostic step 1\n",
    "print('Reboot the computer and try to connect')\n",
    "\n",
    "step_1 = input('Did that fix the problem? ') # asking if step 1 fixed the problem if not move to the next step\n",
    "if step_1 =='No' or step_1 =='no' or step_1 == 'NO':\n",
    "    print('Reboot the router and try to connect.')\n",
    "\n",
    "    \n",
    "    step_2 = input('Did that fix the problem? ')\n",
    "    if step_2 == 'No' or step_2 == 'no' or step_2 == 'NO' :\n",
    "        print('Please make sure the cables between the router and modem are plugged in firmly.')\n",
    "\n",
    "        \n",
    "        step_3 = input('Did that fix the problem? ')\n",
    "        if step_3 == 'No' or step_3 == 'no' or step_3 == 'NO':\n",
    "            print('Move the router to a new location.')\n",
    "      \n",
    "            \n",
    "        step_4 = input('Did that fix the problem? ')\n",
    "        if step_4 == 'No' or step_4 == 'no' or step_4 == 'NO':\n",
    "            print('Get a new router')"
   ]
  },
  {
   "cell_type": "code",
   "execution_count": 4,
   "id": "f7444a25",
   "metadata": {},
   "outputs": [
    {
     "name": "stdout",
     "output_type": "stream",
     "text": [
      "Reboot the computer and try to connect\n",
      "Did that fix the problem? NO\n",
      "Reboot the router and try to connect.\n",
      "Did that fix the problem? NO\n",
      "Please make sure the cables between the router and modem are plugged in firmly.\n",
      "Did that fix the problem? Yes\n",
      "Did that fix the problem? Yes\n"
     ]
    }
   ],
   "source": [
    "# Wifi diagnostic step 1\n",
    "print('Reboot the computer and try to connect')\n",
    "\n",
    "step_1 = input('Did that fix the problem? ') # asking if step 1 fixed the problem if not move to the next step\n",
    "if step_1 =='No' or step_1 =='no' or step_1 == 'NO':\n",
    "    print('Reboot the router and try to connect.')\n",
    "\n",
    "    \n",
    "    step_2 = input('Did that fix the problem? ')\n",
    "    if step_2 == 'No' or step_2 == 'no' or step_2 == 'NO' :\n",
    "        print('Please make sure the cables between the router and modem are plugged in firmly.')\n",
    "\n",
    "        \n",
    "        step_3 = input('Did that fix the problem? ')\n",
    "        if step_3 == 'No' or step_3 == 'no' or step_3 == 'NO':\n",
    "            print('Move the router to a new location.')\n",
    "      \n",
    "            \n",
    "        step_4 = input('Did that fix the problem? ')\n",
    "        if step_4 == 'No' or step_4 == 'no' or step_4 == 'NO':\n",
    "            print('Get a new router')"
   ]
  },
  {
   "cell_type": "code",
   "execution_count": 5,
   "id": "feb90077",
   "metadata": {},
   "outputs": [
    {
     "name": "stdout",
     "output_type": "stream",
     "text": [
      "Reboot the computer and try to connect\n",
      "Did that fix the problem? no\n",
      "Reboot the router and try to connect.\n",
      "Did that fix the problem? no\n",
      "Please make sure the cables between the router and modem are plugged in firmly.\n",
      "Did that fix the problem? YES\n",
      "Did that fix the problem? yes\n"
     ]
    }
   ],
   "source": [
    "# Wifi diagnostic step 1\n",
    "print('Reboot the computer and try to connect')\n",
    "\n",
    "step_1 = input('Did that fix the problem? ') # asking if step 1 fixed the problem if not move to the next step\n",
    "if step_1 =='No' or step_1 =='no' or step_1 == 'NO':\n",
    "    print('Reboot the router and try to connect.')\n",
    "\n",
    "    \n",
    "    step_2 = input('Did that fix the problem? ')\n",
    "    if step_2 == 'No' or step_2 == 'no' or step_2 == 'NO' :\n",
    "        print('Please make sure the cables between the router and modem are plugged in firmly.')\n",
    "\n",
    "        \n",
    "        step_3 = input('Did that fix the problem? ')\n",
    "        if step_3 == 'No' or step_3 == 'no' or step_3 == 'NO':\n",
    "            print('Move the router to a new location.')\n",
    "      \n",
    "            \n",
    "        step_4 = input('Did that fix the problem? ')\n",
    "        if step_4 == 'No' or step_4 == 'no' or step_4 == 'NO':\n",
    "            print('Get a new router')"
   ]
  },
  {
   "cell_type": "code",
   "execution_count": null,
   "id": "b19c453b",
   "metadata": {},
   "outputs": [],
   "source": []
  }
 ],
 "metadata": {
  "kernelspec": {
   "display_name": "Python 3 (ipykernel)",
   "language": "python",
   "name": "python3"
  },
  "language_info": {
   "codemirror_mode": {
    "name": "ipython",
    "version": 3
   },
   "file_extension": ".py",
   "mimetype": "text/x-python",
   "name": "python",
   "nbconvert_exporter": "python",
   "pygments_lexer": "ipython3",
   "version": "3.11.4"
  }
 },
 "nbformat": 4,
 "nbformat_minor": 5
}
