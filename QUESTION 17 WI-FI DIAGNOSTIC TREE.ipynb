{
 "cells": [
  {
   "cell_type": "markdown",
   "id": "a57398b8",
   "metadata": {},
   "source": [
    "## TROUBLESHOOTING A BAD WIFI CONNECTION\n",
    "## USE THE FLOWCHART (FIGURE 3-19) TO CREATE A PROGRAM THAT LEADS A\n",
    "## PERSON THROUGH THE SETPS OF FIXING\n",
    "## A BAD WI-FI CONNECTION"
   ]
  },
  {
   "cell_type": "markdown",
   "id": "016071a5",
   "metadata": {},
   "source": [
    "##### REBOOT THE COMPUTER AND TRY TO CONNECT\n",
    "##### REBOOT THE ROUTER AND TRY TO CONNECT\n",
    "###### MAKE SURE THE CABLES BETWEEN THE ROUTER AND MODEM ARE PLUGGED IN FIRMLY\n",
    "###### MOVE THE ROUTER TO A NEW LOCATION AND TRY TO CONNECT\n",
    "###### GET A NEW ROUTER\n",
    "##### OUR CUSTOMER IS HOPING ONE OF THESE STEPS WILL WORK TO FIX THE WI-FI CONNECTION"
   ]
  },
  {
   "cell_type": "code",
   "execution_count": 2,
   "id": "a6d27938",
   "metadata": {},
   "outputs": [
    {
     "name": "stdout",
     "output_type": "stream",
     "text": [
      "Reboot the computer and try to connect.\n",
      "Enter Y for yes and N for no.\n",
      "Did that fix the problem? N\n",
      "Reboot the router and try to connect.\n",
      "Did that fix the problem? N\n",
      "Make sure the cables between the router and modem are plugged in firmly.\n",
      "Did that fix the problem? Y\n",
      "Good you are all set to start using the WI-FI\n",
      "Did that fix the problem? y\n",
      "Good you are all set to start using the WI-FI\n"
     ]
    }
   ],
   "source": [
    "print('Reboot the computer and try to connect.')  # Step 1 in the flowchart\n",
    "print('Enter Y for yes and N for no.')\n",
    "\n",
    "step_1 = input('Did that fix the problem? ')  # Asking if step 1 fixed the Wi-Fi problems\n",
    "if step_1 == 'Y' or step_1 == 'y':\n",
    "    print('Good you are all set to start using the WI-FI')\n",
    "else:\n",
    "    print('Reboot the router and try to connect.')\n",
    "\n",
    "# Check if the problem is fixed after step 1\n",
    "if step_1 != 'Y' and step_1 != 'y':\n",
    "    step_2 = input('Did that fix the problem? ')\n",
    "    if step_2 == 'Y' or step_2 == 'y':\n",
    "        print('Good you are all set to start using the WI-FI')\n",
    "    else:\n",
    "        print('Make sure the cables between the router and modem are plugged in firmly.')\n",
    "\n",
    "step_3 = input('Did that fix the problem? ')\n",
    "if step_3 == 'Y' or step_3 == 'y':\n",
    "    print('Good you are all set to start using the WI-FI')\n",
    "elif step_3 == 'N' or step_3 == 'n':\n",
    "    print('Move the router to a new location.')\n",
    "\n",
    "step_4 = input('Did that fix the problem? ')\n",
    "if step_4 == 'Y' or step_4 == 'y':\n",
    "    print('Good you are all set to start using the WI-FI')\n",
    "elif step_4 == 'N' or step_4 == 'n':\n",
    "    print('Get a new router')"
   ]
  },
  {
   "cell_type": "code",
   "execution_count": null,
   "id": "9ad23723",
   "metadata": {},
   "outputs": [],
   "source": []
  }
 ],
 "metadata": {
  "kernelspec": {
   "display_name": "Python 3 (ipykernel)",
   "language": "python",
   "name": "python3"
  },
  "language_info": {
   "codemirror_mode": {
    "name": "ipython",
    "version": 3
   },
   "file_extension": ".py",
   "mimetype": "text/x-python",
   "name": "python",
   "nbconvert_exporter": "python",
   "pygments_lexer": "ipython3",
   "version": "3.11.4"
  }
 },
 "nbformat": 4,
 "nbformat_minor": 5
}
